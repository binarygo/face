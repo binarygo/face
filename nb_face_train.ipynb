{
 "cells": [
  {
   "cell_type": "code",
   "execution_count": 1,
   "metadata": {
    "collapsed": false
   },
   "outputs": [],
   "source": [
    "%matplotlib inline\n",
    "\n",
    "import sys\n",
    "import numpy as np\n",
    "import tensorflow as tf\n",
    "from matplotlib import pyplot as plt\n",
    "\n",
    "import aflw_dataset\n",
    "import alexnet_model\n",
    "import alexnet_util\n",
    "\n",
    "reload(aflw_dataset);\n",
    "reload(alexnet_model);\n",
    "reload(alexnet_util);"
   ]
  },
  {
   "cell_type": "code",
   "execution_count": 2,
   "metadata": {
    "collapsed": false
   },
   "outputs": [],
   "source": [
    "face_db = aflw_dataset.FaceDb(\"../aflw/aflw/data/aflw.sqlite\",\n",
    "                              \"../aflw/aflw/data/flickr/\")"
   ]
  },
  {
   "cell_type": "code",
   "execution_count": 3,
   "metadata": {
    "collapsed": false
   },
   "outputs": [
    {
     "name": "stdout",
     "output_type": "stream",
     "text": [
      "train_size = 19008\n",
      "test_size = 2113\n"
     ]
    }
   ],
   "source": [
    "train_size = int(len(face_db.face_data) * 0.9)\n",
    "test_size = len(face_db.face_data) - train_size\n",
    "print \"train_size = %d\"%train_size\n",
    "print \"test_size = %d\"%test_size"
   ]
  },
  {
   "cell_type": "code",
   "execution_count": 4,
   "metadata": {
    "collapsed": false
   },
   "outputs": [],
   "source": [
    "train_face_dataset = aflw_dataset.Dataset(face_db, [0, train_size])\n",
    "test_face_dataset = aflw_dataset.Dataset(face_db, [train_size, train_size + test_size])"
   ]
  },
  {
   "cell_type": "code",
   "execution_count": 5,
   "metadata": {
    "collapsed": true
   },
   "outputs": [],
   "source": [
    "bvlc_init_data = np.load(\"bvlc_alexnet.npy\").item()"
   ]
  },
  {
   "cell_type": "code",
   "execution_count": 6,
   "metadata": {
    "collapsed": true
   },
   "outputs": [],
   "source": [
    "class Model(object):\n",
    "    \n",
    "    def __init__(self, bvlc_init_data):\n",
    "        self._m = alexnet_model.EzModel(\n",
    "            num_outputs=1, initial_input_biases=[108, 91, 82])\n",
    "\n",
    "        optimizer = tf.train.AdamOptimizer(learning_rate=0.0001)\n",
    "        self.loss = self._m.loss\n",
    "        self.train_op = optimizer.minimize(self.loss)\n",
    "        self.prec = tf.reduce_mean(tf.cast(\n",
    "            tf.equal(tf.cast(self._m.probs >= 0.5, tf.int32),\n",
    "                     tf.cast(self._m.input_labels, tf.int32)), tf.float32))\n",
    "        \n",
    "        self.saver = tf.train.Saver(tf.all_variables())\n",
    "        \n",
    "        self.init_ops = alexnet_util.make_bvlc_init_ops(\n",
    "            self._m, bvlc_init_data, fc_ids=[6, 7])\n",
    "\n",
    "def next_batch(face_dataset):\n",
    "    images, labels = train_face_dataset.next_batch(\n",
    "        alexnet_model.EzModel.image_width,\n",
    "        alexnet_model.EzModel.image_height)\n",
    "    labels = np.reshape(np.asarray(labels), [-1, 1])\n",
    "    return images, labels"
   ]
  },
  {
   "cell_type": "code",
   "execution_count": 7,
   "metadata": {
    "collapsed": true
   },
   "outputs": [],
   "source": [
    "test_images, test_labels = next_batch(test_face_dataset)"
   ]
  },
  {
   "cell_type": "code",
   "execution_count": null,
   "metadata": {
    "collapsed": false
   },
   "outputs": [
    {
     "name": "stdout",
     "output_type": "stream",
     "text": [
      "conv1.shape = (?, 57, 57, 96)\n",
      "lrn1.shape = (?, 57, 57, 96)\n",
      "maxpool1.shape = (?, 28, 28, 96)\n",
      "conv2.shape = (?, 28, 28, 256)\n",
      "lrn2.shape = (?, 28, 28, 256)\n",
      "maxpool2.shape = (?, 13, 13, 256)\n",
      "conv3.shape = (?, 13, 13, 384)\n",
      "conv4.shape = (?, 13, 13, 384)\n",
      "conv5.shape = (?, 13, 13, 256)\n",
      "maxpool5.shape = (?, 6, 6, 256)\n",
      "fc6.shape = (?, 1, 1, 4096)\n",
      "fc7.shape = (?, 1, 1, 4096)\n",
      "fc8.shape = (?, 1, 1, 1)\n",
      "probs.shape = (?, 1, 1, 1)\n",
      "========== step 0\n",
      "epoch = 0, progress = 0.01%\n",
      "train_loss = 0.685719, train_prec = 0.578125\n",
      "test_loss = 0.754152, test_prec = 0.765625\n",
      "========== step 10\n",
      "epoch = 0, progress = 0.03%\n",
      "train_loss = 0.326021, train_prec = 0.882812\n",
      "test_loss = 0.317016, test_prec = 0.851562\n",
      "========== step 20\n",
      "epoch = 0, progress = 0.04%\n",
      "train_loss = 0.185326, train_prec = 0.921875\n",
      "test_loss = 0.186648, test_prec = 0.937500\n"
     ]
    }
   ],
   "source": [
    "with tf.Graph().as_default(), tf.Session() as sess:\n",
    "    with tf.device(\"/cpu:0\"):\n",
    "        m = Model(bvlc_init_data)\n",
    "    \n",
    "    sess.run(tf.initialize_all_variables())\n",
    "    sess.run(m.init_ops)\n",
    "    \n",
    "    for i in range(100000):\n",
    "        train_images, train_labels = next_batch(train_face_dataset)\n",
    "        _, train_loss, train_prec= sess.run(\n",
    "            [m.train_op, m.loss, m.prec],\n",
    "            feed_dict={m._m.input_images: train_images, m._m.input_labels: train_labels})\n",
    "        if i % 10 == 0:\n",
    "            m.saver.save(sess, \"face_train_log/face.ckpt\", global_step=i)\n",
    "            test_loss, test_prec= sess.run(\n",
    "                [m.loss, m.prec],\n",
    "                feed_dict={m._m.input_images: test_images, m._m.input_labels: test_labels})\n",
    "            print \"%s step %d\"%(\"=\" * 10, i)\n",
    "            print \"epoch = %d, progress = %.2f%%\"%(\n",
    "                train_face_dataset.epoch, train_face_dataset.progress)\n",
    "            print \"train_loss = %.6f, train_prec = %.6f\"%(train_loss, train_prec)\n",
    "            print \"test_loss = %.6f, test_prec = %.6f\"%(test_loss, test_prec)\n",
    "            sys.stdout.flush()"
   ]
  },
  {
   "cell_type": "code",
   "execution_count": null,
   "metadata": {
    "collapsed": true
   },
   "outputs": [],
   "source": []
  }
 ],
 "metadata": {
  "kernelspec": {
   "display_name": "Python 2",
   "language": "python",
   "name": "python2"
  },
  "language_info": {
   "codemirror_mode": {
    "name": "ipython",
    "version": 2
   },
   "file_extension": ".py",
   "mimetype": "text/x-python",
   "name": "python",
   "nbconvert_exporter": "python",
   "pygments_lexer": "ipython2",
   "version": "2.7.6"
  }
 },
 "nbformat": 4,
 "nbformat_minor": 0
}
